{
 "cells": [
  {
   "cell_type": "code",
   "execution_count": 1,
   "metadata": {},
   "outputs": [],
   "source": [
    "import cv2\n",
    "import numpy as np\n",
    "from ipywidgets import widgets, interact, interactive_output, HBox, VBox\n",
    "from matplotlib import pyplot as plt\n",
    "%matplotlib widget"
   ]
  },
  {
   "cell_type": "code",
   "execution_count": 2,
   "metadata": {},
   "outputs": [],
   "source": [
    "def prepare_checker_img(H=256,W=256,s=16, plot_img:bool=False):\n",
    "    img = np.zeros((H,W), np.float32)\n",
    "    for iy in range(0,H,s):\n",
    "        for ix in range(0,W,2*s):\n",
    "            if (iy//s)%2==0:\n",
    "                img[iy:iy+s,ix:ix+s] = 1.0\n",
    "            else:\n",
    "                img[iy:(iy+s),(ix+s):(ix+2*s)] = 1.0\n",
    "\n",
    "    if plot_img:\n",
    "        plt.imshow(img),plt.show()\n",
    "        pass\n",
    "    return img\n",
    "\n",
    "\n",
    "# prepare_checker_img(plot_img=True)"
   ]
  },
  {
   "cell_type": "code",
   "execution_count": null,
   "metadata": {},
   "outputs": [],
   "source": [
    "img = prepare_checker_img()\n",
    "h,w = img.shape\n",
    "mtx = np.eye(3)\n",
    "mtx[0,2] = w/2\n",
    "mtx[1,2] = h/2\n",
    "\n",
    "mtx[0,0] = 1\n",
    "mtx[1,1] = 0.9\n",
    "\n",
    "dist = (0.00001,0,0,0)\n",
    "newcameramtx, roi = cv2.getOptimalNewCameraMatrix(mtx, dist, (w-1,h-1), 1, (w,h))\n",
    "#getOptimalNewCameraMatrix is causing 1 pixel shrink somehow. better to avoid it.\n",
    "\n",
    "# undistort\n",
    "dst = cv2.undistort(img, mtx, dist, None, newcameramtx)\n",
    "\n",
    "fig,axs=plt.subplots(1,3,sharex=True, sharey=True)\n",
    "axs[0].imshow(img)\n",
    "axs[1].imshow(dst)\n",
    "axs[2].imshow(dst-img)\n",
    "plt.show()\n"
   ]
  },
  {
   "cell_type": "code",
   "execution_count": 8,
   "metadata": {},
   "outputs": [
    {
     "data": {
      "application/vnd.jupyter.widget-view+json": {
       "model_id": "826afa4d20db4ec282b1b4444ce69fa3",
       "version_major": 2,
       "version_minor": 0
      },
      "text/plain": [
       "VBox(children=(HBox(children=(FloatSlider(value=1.0, description='fx', max=10.0, min=0.5), FloatSlider(value=1…"
      ]
     },
     "metadata": {},
     "output_type": "display_data"
    },
    {
     "data": {
      "application/vnd.jupyter.widget-view+json": {
       "model_id": "a5e8580a22a34e58aa30e9cd1213eff1",
       "version_major": 2,
       "version_minor": 0
      },
      "text/plain": [
       "Output(layout=Layout(border_bottom='1px solid black', border_left='1px solid black', border_right='1px solid b…"
      ]
     },
     "metadata": {},
     "output_type": "display_data"
    }
   ],
   "source": [
    "class Calib:\n",
    "    def __init__(self) -> None:\n",
    "        self.img = prepare_checker_img()\n",
    "        self.out1 = widgets.Output(layout = {\"border\": \"1px solid black\"})\n",
    "        with self.out1:\n",
    "            self.fig,self.axs=plt.subplots(2,3,sharex=True, sharey=True)\n",
    "        \n",
    "    def undistort(self, fx,fy,cx,cy,k1,k2,k3,p1,p2):\n",
    "        mtx = np.array([[fy,0,cx],[0,fx,cy],[0,0,1]], np.float32)\n",
    "        dist= (k1,k2,p1,p2,k3)\n",
    "        # dst = cv2.undistort(img, mtx, dist, None, mtx)\n",
    "        mapx, mapy = cv2.initUndistortRectifyMap(mtx, dist, None, mtx, (w,h), 5)\n",
    "        dst = cv2.remap(img, mapx, mapy, cv2.INTER_LINEAR)\n",
    "    \n",
    "        self.out1.clear_output()\n",
    "        with self.out1:\n",
    "            self.axs[0,0].imshow(img)\n",
    "            self.axs[0,1].imshow(dst)\n",
    "            self.axs[0,2].imshow(dst-img)\n",
    "            self.axs[1,0].imshow(mapx)\n",
    "            self.axs[1,1].imshow(mapy)\n",
    "            plt.show()\n",
    "\n",
    "calib =Calib()\n",
    "\n",
    "fx=widgets.FloatSlider(min=0.5, max=10, step=0.1, value=1.0, description='fx')\n",
    "fy=widgets.FloatSlider(min=0.5, max=10, step=0.1, value=1.0, description='fy')\n",
    "cx=widgets.FloatSlider(min=0, max=w, step=w/20, value=w/2, description='cx')\n",
    "cy=widgets.FloatSlider(min=0, max=h, step=h/20, value=h/2, description='cy')\n",
    "k1=widgets.FloatSlider(min=-0.00005, max=0.00005, step=0.000001, value=0.0, description='k1')\n",
    "k2=widgets.FloatSlider(min=-0.000005, max=0.000005, step=0.000000001, value=0.0, description='k2')\n",
    "k3=widgets.FloatSlider(min=-0.00005, max=0.00005, step=0.000001, value=0.0, description='k3')\n",
    "p1=widgets.FloatSlider(min=-0.00005, max=0.00005, step=0.000001, value=0.0, description='p1')\n",
    "p2=widgets.FloatSlider(min=-0.00005, max=0.00005, step=0.000001, value=0.0, description='p2')\n",
    "\n",
    "\n",
    "out = interactive_output(calib.undistort, {'fx':fx,'fy':fy,'cx':cx,'cy':cy,'k1':k1,'k2':k2,'p1':p1,'p2':p2,'k3':k3})\n",
    "display(VBox([HBox([fx,fy,cx,cy]),HBox([k1,k2,p1,p2,k3])]), calib.out1)\n"
   ]
  },
  {
   "cell_type": "code",
   "execution_count": 9,
   "metadata": {},
   "outputs": [
    {
     "ename": "TypeError",
     "evalue": "unsupported operand type(s) for -: 'int' and 'FloatSlider'",
     "output_type": "error",
     "traceback": [
      "\u001b[1;31m---------------------------------------------------------------------------\u001b[0m",
      "\u001b[1;31mTypeError\u001b[0m                                 Traceback (most recent call last)",
      "Input \u001b[1;32mIn [9]\u001b[0m, in \u001b[0;36m<module>\u001b[1;34m\u001b[0m\n\u001b[0;32m     45\u001b[0m     axs[\u001b[38;5;241m1\u001b[39m,\u001b[38;5;241m2\u001b[39m]\u001b[38;5;241m.\u001b[39mimshow(mapy\u001b[38;5;241m-\u001b[39mmapy_gt)\n\u001b[0;32m     46\u001b[0m     plt\u001b[38;5;241m.\u001b[39mshow()\n\u001b[1;32m---> 48\u001b[0m \u001b[43mtest_initUndistortRectifyMap\u001b[49m\u001b[43m(\u001b[49m\u001b[43m)\u001b[49m\n",
      "Input \u001b[1;32mIn [9]\u001b[0m, in \u001b[0;36mtest_initUndistortRectifyMap\u001b[1;34m()\u001b[0m\n\u001b[0;32m     34\u001b[0m dist \u001b[38;5;241m=\u001b[39m (k1,k2,p1,p2,k3)\n\u001b[0;32m     35\u001b[0m mapx_gt,mapy_gt \u001b[38;5;241m=\u001b[39m cv2\u001b[38;5;241m.\u001b[39minitUndistortRectifyMap(mtx, dist,\u001b[38;5;28;01mNone\u001b[39;00m, mtx, (w,h), \u001b[38;5;241m5\u001b[39m)\n\u001b[1;32m---> 37\u001b[0m mapx, mapy \u001b[38;5;241m=\u001b[39m \u001b[43minitUndistortRectifyMap\u001b[49m\u001b[43m(\u001b[49m\u001b[43mmtx\u001b[49m\u001b[43m,\u001b[49m\u001b[43m \u001b[49m\u001b[43mdist\u001b[49m\u001b[43m,\u001b[49m\u001b[43m \u001b[49m\u001b[43m(\u001b[49m\u001b[43mw\u001b[49m\u001b[43m,\u001b[49m\u001b[43mh\u001b[49m\u001b[43m)\u001b[49m\u001b[43m)\u001b[49m\n\u001b[0;32m     39\u001b[0m fig,axs \u001b[38;5;241m=\u001b[39m plt\u001b[38;5;241m.\u001b[39msubplots(\u001b[38;5;241m2\u001b[39m,\u001b[38;5;241m3\u001b[39m,sharex\u001b[38;5;241m=\u001b[39m\u001b[38;5;28;01mTrue\u001b[39;00m, sharey\u001b[38;5;241m=\u001b[39m\u001b[38;5;28;01mTrue\u001b[39;00m)\n\u001b[0;32m     40\u001b[0m axs[\u001b[38;5;241m0\u001b[39m,\u001b[38;5;241m0\u001b[39m]\u001b[38;5;241m.\u001b[39mimshow(mapx)\n",
      "Input \u001b[1;32mIn [9]\u001b[0m, in \u001b[0;36minitUndistortRectifyMap\u001b[1;34m(mtx, dist, size)\u001b[0m\n\u001b[0;32m      3\u001b[0m k4,k5,k6 \u001b[38;5;241m=\u001b[39m \u001b[38;5;241m0\u001b[39m,\u001b[38;5;241m0\u001b[39m,\u001b[38;5;241m0\u001b[39m\n\u001b[0;32m      4\u001b[0m k1,k2,p1,p2,k3 \u001b[38;5;241m=\u001b[39mdist\n\u001b[1;32m----> 5\u001b[0m x \u001b[38;5;241m=\u001b[39m (\u001b[43mu\u001b[49m\u001b[38;5;241;43m-\u001b[39;49m\u001b[43mcx\u001b[49m)\u001b[38;5;241m/\u001b[39mfx\n\u001b[0;32m      6\u001b[0m y \u001b[38;5;241m=\u001b[39m (v\u001b[38;5;241m-\u001b[39mcy)\u001b[38;5;241m/\u001b[39mfy\n\u001b[0;32m      7\u001b[0m x_1,y_1 \u001b[38;5;241m=\u001b[39m x,y\n",
      "\u001b[1;31mTypeError\u001b[0m: unsupported operand type(s) for -: 'int' and 'FloatSlider'"
     ]
    }
   ],
   "source": [
    "def initUndistortRectifyMap(mtx, dist, size):\n",
    "    u,v = np.meshgrid(np.arange(size[1]), np.arange(size[0]))\n",
    "    k4,k5,k6 = 0,0,0\n",
    "    k1,k2,p1,p2,k3 =dist\n",
    "    x = (u-cx)/fx\n",
    "    y = (v-cy)/fy\n",
    "    x_1,y_1 = x,y\n",
    "    x2 = x_1**2\n",
    "    y2 = y_1**2\n",
    "    r2 = x2 + y2\n",
    "    \n",
    "    r4 = r2*r2\n",
    "    r6 = r2*r4\n",
    "\n",
    "    dist_k_top = 1 + k1*r2 + k2*r4 + k3*r6\n",
    "    dist_k_bot = 1 + k4*r2 + k5*r4 + k6*r6\n",
    "    dist_k = dist_k_top/dist_k_bot\n",
    "    x_2 = x_1*(dist_k) + 2*p1*x_1*y_1 + p2*(r2 + 2*x2)\n",
    "    y_2 = y_1*(dist_k) + p1*(r2 + 2*y2) + 2*p2*x_1*y_1\n",
    "\n",
    "    x_3 = x_2\n",
    "    y_3 = y_2\n",
    "    out_x = x_3*fx + cx\n",
    "    out_y = y_3*fy + cy\n",
    "    return out_x, out_y\n",
    "\n",
    "\n",
    "def test_initUndistortRectifyMap():\n",
    "    fx,fy = 1,1\n",
    "    cx,cy = w//2, h//2\n",
    "    k1,k2,k3 = 0.00005,0.0,0.0\n",
    "    p1,p2 = 0.0,0.0\n",
    "    mtx = np.array([[fx,0,cx],[0,fy,cy],[0,0,1]], dtype=np.float32)\n",
    "    dist = (k1,k2,p1,p2,k3)\n",
    "    mapx_gt,mapy_gt = cv2.initUndistortRectifyMap(mtx, dist,None, mtx, (w,h), 5)\n",
    "\n",
    "    mapx, mapy = initUndistortRectifyMap(mtx, dist, (w,h))\n",
    "\n",
    "    fig,axs = plt.subplots(2,3,sharex=True, sharey=True)\n",
    "    axs[0,0].imshow(mapx)\n",
    "    axs[0,1].imshow(mapx_gt)\n",
    "    axs[0,2].imshow(mapx-mapx_gt)\n",
    "    axs[1,0].imshow(mapy)\n",
    "    axs[1,1].imshow(mapy_gt)\n",
    "    axs[1,2].imshow(mapy-mapy_gt)\n",
    "    plt.show()\n",
    "\n",
    "test_initUndistortRectifyMap()"
   ]
  },
  {
   "cell_type": "code",
   "execution_count": null,
   "metadata": {},
   "outputs": [],
   "source": []
  }
 ],
 "metadata": {
  "kernelspec": {
   "display_name": "Python 3",
   "language": "python",
   "name": "python3"
  },
  "language_info": {
   "codemirror_mode": {
    "name": "ipython",
    "version": 3
   },
   "file_extension": ".py",
   "mimetype": "text/x-python",
   "name": "python",
   "nbconvert_exporter": "python",
   "pygments_lexer": "ipython3",
   "version": "3.9.6"
  }
 },
 "nbformat": 4,
 "nbformat_minor": 2
}
